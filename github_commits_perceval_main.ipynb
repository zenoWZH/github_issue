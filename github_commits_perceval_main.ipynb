{
 "cells": [
  {
   "cell_type": "code",
   "execution_count": 2,
   "metadata": {},
   "outputs": [
    {
     "name": "stderr",
     "output_type": "stream",
     "text": [
      "UserWarning: Modin Ray engine was started with 6 GB free space avaliable, if it is not enough for your application, please set environment variable MODIN_ON_RAY_PLASMA_DIR=/directory/without/space/limiting\n"
     ]
    }
   ],
   "source": [
    "import json\n",
    "import sys\n",
    "import modin.pandas as modinpd\n",
    "import pandas as pd\n",
    "from perceval.backends.core.git import Git\n",
    "from models.model_Commits import Commits\n",
    "\n",
    "from sqlalchemy import create_engine\n",
    "from sqlalchemy import types as sqltype\n",
    "from config.database import HOST, PORT, USER, PASSWORD, DATABASE\n",
    "\n",
    "import psycopg2\n",
    "\n",
    "import gc"
   ]
  },
  {
   "cell_type": "code",
   "execution_count": 3,
   "metadata": {},
   "outputs": [],
   "source": [
    "def add_aliase(aliase_id, mailaddress, source):\n",
    "\n",
    "    try:\n",
    "        db = psycopg2.connect(\n",
    "            host=HOST,\n",
    "            port=PORT,\n",
    "            user=USER,\n",
    "            password=PASSWORD,\n",
    "            database=DATABASE)\n",
    "            #charset='utf8')\n",
    "        cursor = db.cursor()\n",
    "    except Exception as e:\n",
    "        logging.error(\"Database connect error:%s\" % e)\n",
    "\n",
    "    #aliase_id, mailaddress = aliase.replace('<', ' ').replace('>', ' ').split()\n",
    "    aliase_id = aliase_id.replace('\\'','\\'\\'')\n",
    "    sql_aliase = \"\"\"INSERT INTO aliase(aliase_id, mailaddress, source)\n",
    "                                        values('%s', '%s', '%s')\"\"\" % (aliase_id, mailaddress, source)\n",
    "    try:\n",
    "        db.commit()\n",
    "        cursor.execute(sql_aliase)\n",
    "        db.commit()\n",
    "    except Exception as err:\n",
    "        sql_aliase = \"\"\"UPDATE aliase SET mailaddress='%s', source='%s' WHERE aliase_id='%s' \"\"\" % (mailaddress, source, aliase_id)\n",
    "        #print(err)\n",
    "        pass\n",
    "    return aliase_id\n"
   ]
  },
  {
   "cell_type": "code",
   "execution_count": 7,
   "metadata": {},
   "outputs": [],
   "source": [
    "df = pd.read_csv(\"../gitrepository_part2.csv\")\n",
    "github_source_url = df[\"Repos\"].values[2:]"
   ]
  },
  {
   "cell_type": "code",
   "execution_count": 8,
   "metadata": {},
   "outputs": [
    {
     "data": {
      "text/plain": [
       "'https://github.com/orfeotoolbox/OTB'"
      ]
     },
     "execution_count": 8,
     "metadata": {},
     "output_type": "execute_result"
    }
   ],
   "source": [
    "github_source_url[0]"
   ]
  },
  {
   "cell_type": "code",
   "execution_count": 9,
   "metadata": {},
   "outputs": [],
   "source": [
    "#github_source_url[0]='/mnt/data0/proj_osgeo/temp/qgis/pyqgis'\n",
    "#repo = Git(uri='/mnt/data0/proj_osgeo/temp/qgis/pyqgis', gitpath='/mnt/data0/proj_osgeo/temp/qgis/pyqgis.git')\n",
    "#repo_data = repo.fetch()"
   ]
  },
  {
   "cell_type": "code",
   "execution_count": 11,
   "metadata": {},
   "outputs": [
    {
     "name": "stdout",
     "output_type": "stream",
     "text": [
      "Succesfully get repo:/mnt/data0/proj_osgeo/temp/orfeotoolbox/OTB.git\n",
      "Get all commits: 34662\n",
      "aliase updated\n",
      "Get all filelogs: 787190\n",
      "commit added\n",
      "filelogs added\n",
      "Succesfully get repo:/mnt/data0/proj_osgeo/temp/orfeotoolbox/OTB-DevUtils.git\n",
      "Get all commits: 4541\n",
      "aliase updated\n",
      "Get all filelogs: 12040\n",
      "commit added\n",
      "filelogs added\n",
      "Succesfully get repo:/mnt/data0/proj_osgeo/temp/orfeotoolbox/OTB-Documents.git\n",
      "Get all commits: 2204\n",
      "aliase updated\n",
      "Get all filelogs: 7777\n",
      "commit added\n",
      "filelogs added\n",
      "Succesfully get repo:/mnt/data0/proj_osgeo/temp/orfeotoolbox/GRM.git\n",
      "Get all commits: 74\n",
      "aliase updated\n",
      "Get all filelogs: 292\n",
      "commit added\n",
      "filelogs added\n",
      "Succesfully get repo:/mnt/data0/proj_osgeo/temp/orfeotoolbox/let-it-snow.git\n",
      "Get all commits: 584\n",
      "aliase updated\n",
      "Get all filelogs: 1865\n",
      "commit added\n",
      "filelogs added\n",
      "Succesfully get repo:/mnt/data0/proj_osgeo/temp/orfeotoolbox/remote-module-template.git\n",
      "Get all commits: 77\n",
      "aliase updated\n",
      "Get all filelogs: 140\n",
      "commit added\n",
      "filelogs added\n",
      "Succesfully get repo:/mnt/data0/proj_osgeo/temp/orfeotoolbox/qgis-otb-plugin.git\n",
      "Get all commits: 2\n",
      "aliase updated\n",
      "Get all filelogs: 1061\n",
      "commit added\n",
      "filelogs added\n",
      "Succesfully get repo:/mnt/data0/proj_osgeo/temp/orfeotoolbox/Monteverdi2.git\n",
      "Get all commits: 2315\n",
      "aliase updated\n",
      "Get all filelogs: 7883\n",
      "commit added\n",
      "filelogs added\n",
      "Succesfully get repo:/mnt/data0/proj_osgeo/temp/orfeotoolbox/Ice.git\n",
      "Get all commits: 304\n",
      "aliase updated\n",
      "Get all filelogs: 714\n",
      "commit added\n",
      "filelogs added\n",
      "Succesfully get repo:/mnt/data0/proj_osgeo/temp/orfeotoolbox/Monteverdi.git\n",
      "Get all commits: 2256\n",
      "aliase updated\n",
      "Get all filelogs: 12362\n",
      "commit added\n",
      "filelogs added\n"
     ]
    },
    {
     "name": "stderr",
     "output_type": "stream",
     "text": [
      "\u001b[2m\u001b[33m(pid=raylet)\u001b[0m ----------------------------------------\n",
      "\u001b[2m\u001b[33m(pid=raylet)\u001b[0m Exception happened during processing of request from ('169.237.224.45', 50282)\n",
      "\u001b[2m\u001b[33m(pid=raylet)\u001b[0m Traceback (most recent call last):\n",
      "\u001b[2m\u001b[33m(pid=raylet)\u001b[0m   File \"/home/orzwang/.pyenv/versions/3.6.13/lib/python3.6/socketserver.py\", line 654, in process_request_thread\n",
      "\u001b[2m\u001b[33m(pid=raylet)\u001b[0m     self.finish_request(request, client_address)\n",
      "\u001b[2m\u001b[33m(pid=raylet)\u001b[0m   File \"/home/orzwang/.pyenv/versions/3.6.13/lib/python3.6/socketserver.py\", line 364, in finish_request\n",
      "\u001b[2m\u001b[33m(pid=raylet)\u001b[0m     self.RequestHandlerClass(request, client_address, self)\n",
      "\u001b[2m\u001b[33m(pid=raylet)\u001b[0m   File \"/home/orzwang/.pyenv/versions/3.6.13/lib/python3.6/socketserver.py\", line 724, in __init__\n",
      "\u001b[2m\u001b[33m(pid=raylet)\u001b[0m     self.handle()\n",
      "\u001b[2m\u001b[33m(pid=raylet)\u001b[0m   File \"/home/orzwang/.pyenv/versions/3.6.13/lib/python3.6/wsgiref/simple_server.py\", line 126, in handle\n",
      "\u001b[2m\u001b[33m(pid=raylet)\u001b[0m     if not self.parse_request(): # An error code has been sent, just exit\n",
      "\u001b[2m\u001b[33m(pid=raylet)\u001b[0m   File \"/home/orzwang/.pyenv/versions/3.6.13/lib/python3.6/http/server.py\", line 329, in parse_request\n",
      "\u001b[2m\u001b[33m(pid=raylet)\u001b[0m     _class=self.MessageClass)\n",
      "\u001b[2m\u001b[33m(pid=raylet)\u001b[0m   File \"/home/orzwang/.pyenv/versions/3.6.13/lib/python3.6/http/client.py\", line 220, in parse_headers\n",
      "\u001b[2m\u001b[33m(pid=raylet)\u001b[0m     line = fp.readline(_MAXLINE + 1)\n",
      "\u001b[2m\u001b[33m(pid=raylet)\u001b[0m   File \"/home/orzwang/.pyenv/versions/3.6.13/lib/python3.6/socket.py\", line 586, in readinto\n",
      "\u001b[2m\u001b[33m(pid=raylet)\u001b[0m     return self._sock.recv_into(b)\n",
      "\u001b[2m\u001b[33m(pid=raylet)\u001b[0m ConnectionResetError: [Errno 104] Connection reset by peer\n",
      "\u001b[2m\u001b[33m(pid=raylet)\u001b[0m ----------------------------------------\n",
      "\u001b[2m\u001b[33m(pid=raylet)\u001b[0m ----------------------------------------\n",
      "\u001b[2m\u001b[33m(pid=raylet)\u001b[0m Exception happened during processing of request from ('169.237.224.45', 50838)\n",
      "\u001b[2m\u001b[33m(pid=raylet)\u001b[0m Traceback (most recent call last):\n",
      "\u001b[2m\u001b[33m(pid=raylet)\u001b[0m   File \"/home/orzwang/.pyenv/versions/3.6.13/lib/python3.6/socketserver.py\", line 654, in process_request_thread\n",
      "\u001b[2m\u001b[33m(pid=raylet)\u001b[0m     self.finish_request(request, client_address)\n",
      "\u001b[2m\u001b[33m(pid=raylet)\u001b[0m   File \"/home/orzwang/.pyenv/versions/3.6.13/lib/python3.6/socketserver.py\", line 364, in finish_request\n",
      "\u001b[2m\u001b[33m(pid=raylet)\u001b[0m     self.RequestHandlerClass(request, client_address, self)\n",
      "\u001b[2m\u001b[33m(pid=raylet)\u001b[0m   File \"/home/orzwang/.pyenv/versions/3.6.13/lib/python3.6/socketserver.py\", line 724, in __init__\n",
      "\u001b[2m\u001b[33m(pid=raylet)\u001b[0m     self.handle()\n",
      "\u001b[2m\u001b[33m(pid=raylet)\u001b[0m   File \"/home/orzwang/.pyenv/versions/3.6.13/lib/python3.6/wsgiref/simple_server.py\", line 118, in handle\n",
      "\u001b[2m\u001b[33m(pid=raylet)\u001b[0m     self.raw_requestline = self.rfile.readline(65537)\n",
      "\u001b[2m\u001b[33m(pid=raylet)\u001b[0m   File \"/home/orzwang/.pyenv/versions/3.6.13/lib/python3.6/socket.py\", line 586, in readinto\n",
      "\u001b[2m\u001b[33m(pid=raylet)\u001b[0m     return self._sock.recv_into(b)\n",
      "\u001b[2m\u001b[33m(pid=raylet)\u001b[0m ConnectionResetError: [Errno 104] Connection reset by peer\n",
      "\u001b[2m\u001b[33m(pid=raylet)\u001b[0m ----------------------------------------\n",
      "\u001b[2m\u001b[33m(pid=raylet)\u001b[0m ----------------------------------------\n",
      "\u001b[2m\u001b[33m(pid=raylet)\u001b[0m Exception happened during processing of request from ('169.237.224.45', 50858)\n",
      "\u001b[2m\u001b[33m(pid=raylet)\u001b[0m Traceback (most recent call last):\n",
      "\u001b[2m\u001b[33m(pid=raylet)\u001b[0m   File \"/home/orzwang/.pyenv/versions/3.6.13/lib/python3.6/socketserver.py\", line 654, in process_request_thread\n",
      "\u001b[2m\u001b[33m(pid=raylet)\u001b[0m     self.finish_request(request, client_address)\n",
      "\u001b[2m\u001b[33m(pid=raylet)\u001b[0m   File \"/home/orzwang/.pyenv/versions/3.6.13/lib/python3.6/socketserver.py\", line 364, in finish_request\n",
      "\u001b[2m\u001b[33m(pid=raylet)\u001b[0m     self.RequestHandlerClass(request, client_address, self)\n",
      "\u001b[2m\u001b[33m(pid=raylet)\u001b[0m   File \"/home/orzwang/.pyenv/versions/3.6.13/lib/python3.6/socketserver.py\", line 724, in __init__\n",
      "\u001b[2m\u001b[33m(pid=raylet)\u001b[0m     self.handle()\n",
      "\u001b[2m\u001b[33m(pid=raylet)\u001b[0m   File \"/home/orzwang/.pyenv/versions/3.6.13/lib/python3.6/wsgiref/simple_server.py\", line 118, in handle\n",
      "\u001b[2m\u001b[33m(pid=raylet)\u001b[0m     self.raw_requestline = self.rfile.readline(65537)\n",
      "\u001b[2m\u001b[33m(pid=raylet)\u001b[0m   File \"/home/orzwang/.pyenv/versions/3.6.13/lib/python3.6/socket.py\", line 586, in readinto\n",
      "\u001b[2m\u001b[33m(pid=raylet)\u001b[0m     return self._sock.recv_into(b)\n",
      "\u001b[2m\u001b[33m(pid=raylet)\u001b[0m ConnectionResetError: [Errno 104] Connection reset by peer\n",
      "\u001b[2m\u001b[33m(pid=raylet)\u001b[0m ----------------------------------------\n",
      "\u001b[2m\u001b[33m(pid=raylet)\u001b[0m ----------------------------------------\n",
      "\u001b[2m\u001b[33m(pid=raylet)\u001b[0m Exception happened during processing of request from ('169.237.224.45', 55884)\n",
      "\u001b[2m\u001b[33m(pid=raylet)\u001b[0m Traceback (most recent call last):\n",
      "\u001b[2m\u001b[33m(pid=raylet)\u001b[0m   File \"/home/orzwang/.pyenv/versions/3.6.13/lib/python3.6/socketserver.py\", line 654, in process_request_thread\n",
      "\u001b[2m\u001b[33m(pid=raylet)\u001b[0m     self.finish_request(request, client_address)\n",
      "\u001b[2m\u001b[33m(pid=raylet)\u001b[0m   File \"/home/orzwang/.pyenv/versions/3.6.13/lib/python3.6/socketserver.py\", line 364, in finish_request\n",
      "\u001b[2m\u001b[33m(pid=raylet)\u001b[0m     self.RequestHandlerClass(request, client_address, self)\n",
      "\u001b[2m\u001b[33m(pid=raylet)\u001b[0m   File \"/home/orzwang/.pyenv/versions/3.6.13/lib/python3.6/socketserver.py\", line 724, in __init__\n",
      "\u001b[2m\u001b[33m(pid=raylet)\u001b[0m     self.handle()\n",
      "\u001b[2m\u001b[33m(pid=raylet)\u001b[0m   File \"/home/orzwang/.pyenv/versions/3.6.13/lib/python3.6/wsgiref/simple_server.py\", line 118, in handle\n",
      "\u001b[2m\u001b[33m(pid=raylet)\u001b[0m     self.raw_requestline = self.rfile.readline(65537)\n",
      "\u001b[2m\u001b[33m(pid=raylet)\u001b[0m   File \"/home/orzwang/.pyenv/versions/3.6.13/lib/python3.6/socket.py\", line 586, in readinto\n",
      "\u001b[2m\u001b[33m(pid=raylet)\u001b[0m     return self._sock.recv_into(b)\n",
      "\u001b[2m\u001b[33m(pid=raylet)\u001b[0m ConnectionResetError: [Errno 104] Connection reset by peer\n",
      "\u001b[2m\u001b[33m(pid=raylet)\u001b[0m ----------------------------------------\n",
      "\u001b[2m\u001b[33m(pid=raylet)\u001b[0m ----------------------------------------\n",
      "\u001b[2m\u001b[33m(pid=raylet)\u001b[0m Exception happened during processing of request from ('169.237.224.45', 38582)\n",
      "\u001b[2m\u001b[33m(pid=raylet)\u001b[0m Traceback (most recent call last):\n",
      "\u001b[2m\u001b[33m(pid=raylet)\u001b[0m   File \"/home/orzwang/.pyenv/versions/3.6.13/lib/python3.6/socketserver.py\", line 654, in process_request_thread\n",
      "\u001b[2m\u001b[33m(pid=raylet)\u001b[0m     self.finish_request(request, client_address)\n",
      "\u001b[2m\u001b[33m(pid=raylet)\u001b[0m   File \"/home/orzwang/.pyenv/versions/3.6.13/lib/python3.6/socketserver.py\", line 364, in finish_request\n",
      "\u001b[2m\u001b[33m(pid=raylet)\u001b[0m     self.RequestHandlerClass(request, client_address, self)\n",
      "\u001b[2m\u001b[33m(pid=raylet)\u001b[0m   File \"/home/orzwang/.pyenv/versions/3.6.13/lib/python3.6/socketserver.py\", line 724, in __init__\n",
      "\u001b[2m\u001b[33m(pid=raylet)\u001b[0m     self.handle()\n",
      "\u001b[2m\u001b[33m(pid=raylet)\u001b[0m   File \"/home/orzwang/.pyenv/versions/3.6.13/lib/python3.6/wsgiref/simple_server.py\", line 118, in handle\n",
      "\u001b[2m\u001b[33m(pid=raylet)\u001b[0m     self.raw_requestline = self.rfile.readline(65537)\n",
      "\u001b[2m\u001b[33m(pid=raylet)\u001b[0m   File \"/home/orzwang/.pyenv/versions/3.6.13/lib/python3.6/socket.py\", line 586, in readinto\n",
      "\u001b[2m\u001b[33m(pid=raylet)\u001b[0m     return self._sock.recv_into(b)\n",
      "\u001b[2m\u001b[33m(pid=raylet)\u001b[0m ConnectionResetError: [Errno 104] Connection reset by peer\n",
      "\u001b[2m\u001b[33m(pid=raylet)\u001b[0m ----------------------------------------\n"
     ]
    }
   ],
   "source": [
    "for url in github_source_url:\n",
    "    repo_url = url\n",
    "    counter = 0\n",
    "    # directory for letting Perceval clone the git repo\n",
    "    repolast = url.split('/')[-1]\n",
    "    proj_name = str(df.loc[df[\"Repos\"] == url.replace('/issues', '')][\"Projects\"].values[0]).lower()\n",
    "    repo_name = repo_url.split('/')[-1]\n",
    "    repo_dir = '/mnt/data0/proj_osgeo/temp/'+proj_name+'/'+str(repolast)+'.git'\n",
    "    \n",
    "\n",
    "    # create a Git object, pointing to repo_url, using repo_dir for cloning\n",
    "    repo = Git(uri=repo_url, gitpath=repo_dir)\n",
    "    repo_data = repo.fetch()\n",
    "    print(\"Succesfully get repo:\"+repo_dir)\n",
    "    #print(type(repo_data))\n",
    "    # Fetch return a generator\n",
    "    \n",
    "    ####fw = open('./repo_fetch.json','w')\n",
    "    ###fw.write('{\\\"all_commits\\\":[')\n",
    "    \n",
    "    all_commits = []\n",
    "\n",
    "    # fetch all commits as an iterator, and iterate it printing each hash\n",
    "    \n",
    "    for commit in repo_data:\n",
    "        counter += 1\n",
    "        commit['data']['proj_id'] = proj_name\n",
    "        commit['data']['repo'] = repo_name\n",
    "        commit['data']['commit_id'] = proj_name+\"#\"+repo_name+\"#\"+str(counter)+\"#\"+commit['data']['commit']\n",
    "        \n",
    "        try:\n",
    "            author= commit['data']['Author'].replace('<', ' ').replace('>', ' ').split()[0]\n",
    "            author_email= commit['data']['Author'].replace('<', ' ').replace('>', ' ').split()[-1]\n",
    "            commiter= commit['data']['Commit'].replace('<', ' ').replace('>', ' ').split()[0]\n",
    "            commiter_email= commit['data']['Commit'].replace('<', ' ').replace('>', ' ').split()[-1]\n",
    "            if author == author_email :\n",
    "                author_email = \"\"\n",
    "            if commiter == commiter_email:\n",
    "                commiter_email = \"\"\n",
    "            commit['data']['author_id'] = author\n",
    "            commit['data']['author_email'] =  author_email\n",
    "            commit['data']['commiter_id'] = commiter\n",
    "            commit['data']['commiter_email'] = commiter_email\n",
    "        except IndexError as e:\n",
    "            print(commit['data']['Author'])\n",
    "            print(commit['data']['Commit'])\n",
    "\n",
    "        all_commits.append(commit['data'])\n",
    "\n",
    "    print(\"Get all commits:\", counter)\n",
    "    if counter==0:\n",
    "        continue\n",
    "    df_all_commits = pd.DataFrame(all_commits)\n",
    "    df_all_commits = df_all_commits[['commit', 'parents', 'refs', 'Author', 'AuthorDate', 'Commit',\n",
    "       'CommitDate', 'message', 'files', 'proj_id', 'repo', 'commit_id',\n",
    "       'author_id', 'author_email', 'commiter_id', 'commiter_email']]\n",
    "\n",
    "    df_all_commits.columns = ['commit_sha', 'commit_parents', 'commit_refs', 'author', 'author_timestamp', 'commiter',\n",
    "       'commit_timestamp', 'commit_message', 'files', 'proj_id', 'repo', 'commit_id','author_aliase_id', 'author_email', 'commiter_aliase_id', 'commiter_email'] \n",
    "    \n",
    "    df_all_commits['commit_timestamp'].apply(lambda x: pd.Timestamp(x))\n",
    "    df_all_commits['author_timestamp'].apply(lambda x: pd.Timestamp(x))\n",
    "\n",
    "    df_psql_commits = df_all_commits[['commit_id','proj_id','author_aliase_id', 'author_timestamp', \n",
    "    'commiter_aliase_id', 'commit_timestamp', 'commit_message', 'commit_sha', 'commit_parents', 'commit_refs']].astype(str)\n",
    "\n",
    "    df_psql_aliases = pd.DataFrame()\n",
    "    df_psql_aliases['aliase_id'] = df_psql_commits['author_aliase_id'].append(df_psql_commits['commiter_aliase_id'], ignore_index=True)\n",
    "    df_psql_aliases['mailaddress'] = df_all_commits['author_email'].append(df_all_commits['commiter_email'], ignore_index=True)\n",
    "    df_psql_aliases = df_psql_aliases.drop_duplicates().astype(str)\n",
    "    \n",
    "    # Source Difference Here!!! #######################################################################################################\n",
    "    df_psql_aliases['source'] = 'Github'\n",
    "    #df_psql_aliases['source'] = 'GitLab'\n",
    "    #df_psql_aliases['source'] = 'OSGeoGit'\n",
    "    # Source Difference Here!!! #######################################################################################################\n",
    "    for col in df_psql_aliases.columns.values :\n",
    "        df_psql_aliases[col]= df_psql_aliases[col].apply(lambda x : x.encode('utf-8','ignore').decode(\"utf-8\"))\n",
    "    for aliase_id, mailaddress, source in df_psql_aliases.values :\n",
    "        #print(aliase_id, mailaddress, source)\n",
    "        add_aliase(aliase_id, mailaddress, source)\n",
    "    print(\"aliase updated\")\n",
    "    #continue   #USE TO UPDATE ALL ALIASES!!!!!!\n",
    "\n",
    "    all_filelogs = []\n",
    "    file_counter = 0\n",
    "    for filelog, commit_id, proj, repo in (df_all_commits[[\"files\",\"commit_id\",\"proj_id\",\"repo\"]].values):\n",
    "        for log in filelog:\n",
    "            file_counter+=1\n",
    "            log['commit_id'] = commit_id\n",
    "            log['id'] = proj+\"#\"+repo+\"#\"+str(file_counter)+\"#\"+log['file']\n",
    "            #log['mode_before']= log['modes'][0]\n",
    "            #log['mode_after']= log['modes'][-1]\n",
    "        all_filelogs += filelog\n",
    "        #print(filelog)\n",
    "        #break\n",
    "        \n",
    "    df_all_filelogs = pd.DataFrame(all_filelogs)\n",
    "    df_all_filelogs = df_all_filelogs[['modes', 'indexes', 'action', 'file', 'added', 'removed', 'commit_id', 'id']]\n",
    "    print(\"Get all filelogs:\", file_counter)\n",
    "\n",
    "    df_all_filelogs.columns = ['modes', 'indexes', 'action', 'file_name', 'added', 'removed', 'commit_id',\n",
    "       'filelog_id']\n",
    "    \n",
    "    df_psql_filelogs = df_all_filelogs[['filelog_id', 'commit_id', 'modes', 'indexes', 'action', 'file_name', 'added', 'removed']].astype(str)\n",
    "\n",
    "    psql_engine = create_engine(\"postgresql://\"+USER+\":\"+PASSWORD+\"@\"+HOST+\":\"+str(PORT)+\"/\"+DATABASE)\n",
    "\n",
    "\n",
    "    for col in df_psql_commits.columns.values :\n",
    "        df_psql_commits[col]= df_psql_commits[col].apply(lambda x : x.encode('utf-8','ignore').decode(\"utf-8\"))\n",
    "    try:\n",
    "        df_psql_commits.to_sql(name='commit', con = psql_engine, if_exists= 'append', index= False)\n",
    "        print(\"commit added\")\n",
    "    except BaseException as err:\n",
    "        print(err)\n",
    "    \n",
    "    try:\n",
    "        df_psql_filelogs.to_sql(name='filelog', con = psql_engine, if_exists= 'append', index= False)\n",
    "        print(\"filelogs added\")\n",
    "    except BaseException as err:\n",
    "        print(err)\n",
    "        \n",
    "    del df_all_commits, df_all_filelogs, df_psql_aliases, df_psql_commits, df_psql_filelogs\n",
    "    gc.collect()"
   ]
  },
  {
   "cell_type": "code",
   "execution_count": null,
   "metadata": {},
   "outputs": [],
   "source": []
  },
  {
   "cell_type": "code",
   "execution_count": null,
   "metadata": {},
   "outputs": [],
   "source": [
    "df_psql_filelogs.to_sql(name='filelog', con = psql_engine, if_exists= 'append', index= False)"
   ]
  },
  {
   "cell_type": "code",
   "execution_count": null,
   "metadata": {},
   "outputs": [],
   "source": [
    "df_psql_commits.to_sql(name='commit', con = psql_engine, if_exists= 'append', index= False)"
   ]
  },
  {
   "cell_type": "code",
   "execution_count": null,
   "metadata": {},
   "outputs": [],
   "source": [
    "df_all_commits.columns.values"
   ]
  },
  {
   "cell_type": "code",
   "execution_count": null,
   "metadata": {},
   "outputs": [],
   "source": [
    "df_all_filelogs.columns"
   ]
  },
  {
   "cell_type": "code",
   "execution_count": null,
   "metadata": {},
   "outputs": [],
   "source": [
    "df_psql_commits.columns"
   ]
  },
  {
   "cell_type": "code",
   "execution_count": null,
   "metadata": {},
   "outputs": [],
   "source": [
    "for col in df_psql_commits.columns.values :\n",
    "    df_psql_commits[col]= df_psql_commits[col].apply(lambda x : x.encode('utf-8','ignore').decode(\"utf-8\"))"
   ]
  },
  {
   "cell_type": "code",
   "execution_count": null,
   "metadata": {
    "scrolled": true,
    "tags": []
   },
   "outputs": [],
   "source": [
    "df_psql_aliases = pd.DataFrame()\n",
    "\n",
    "df_psql_aliases['aliase_id'] = df_psql_commits['author_aliase_id'].append(df_psql_commits['commiter_aliase_id'], ignore_index=True)\n",
    "df_psql_aliases['mailaddress'] = df_all_commits['author_email'].append(df_all_commits['commiter_email'], ignore_index=True)\n",
    "df_psql_aliases = df_psql_aliases.drop_duplicates().astype(str)\n",
    "#df_psql_aliases = df_psql_aliases.astype(str)\n",
    "\n",
    "df_psql_aliases['source'] = 'Github'\n",
    "for col in df_psql_aliases.columns.values :\n",
    "    df_psql_aliases[col]= df_psql_aliases[col].apply(lambda x : x.encode('utf-8','ignore').decode(\"utf-8\"))\n",
    "for aliase_id, mailaddress, source in df_psql_aliases.values :\n",
    "    print(aliase_id, mailaddress, source)\n",
    "    add_aliase(aliase_id, mailaddress, source)\n",
    "print(\"aliase updated\")"
   ]
  },
  {
   "cell_type": "code",
   "execution_count": null,
   "metadata": {},
   "outputs": [],
   "source": [
    "\"D'Hont\" in df_psql_aliases['aliase_id'].values"
   ]
  },
  {
   "cell_type": "code",
   "execution_count": null,
   "metadata": {},
   "outputs": [],
   "source": [
    "\"D'Hont\" in df_psql_aliases.values"
   ]
  },
  {
   "cell_type": "code",
   "execution_count": null,
   "metadata": {},
   "outputs": [],
   "source": [
    "df_psql_aliases.values[100]"
   ]
  },
  {
   "cell_type": "code",
   "execution_count": null,
   "metadata": {},
   "outputs": [],
   "source": []
  }
 ],
 "metadata": {
  "interpreter": {
   "hash": "a673315fe2889f1938749863cb31942b8222368b7a28bca37fa9b828316f0ec1"
  },
  "kernelspec": {
   "display_name": "Python 3.6.13 64-bit ('3.6.13': pyenv)",
   "name": "python3"
  },
  "language_info": {
   "codemirror_mode": {
    "name": "ipython",
    "version": 3
   },
   "file_extension": ".py",
   "mimetype": "text/x-python",
   "name": "python",
   "nbconvert_exporter": "python",
   "pygments_lexer": "ipython3",
   "version": "3.6.13"
  }
 },
 "nbformat": 4,
 "nbformat_minor": 4
}
