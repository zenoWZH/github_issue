{
    "cells": [
        {
            "cell_type": "code",
            "execution_count": null,
            "source": [],
            "outputs": [],
            "metadata": {}
        }
    ],
    "metadata": {
        "orig_nbformat": 4,
        "language_info": {
            "name": "python",
            "version": "3.6.13"
        },
        "kernelspec": {
            "name": "python3",
            "display_name": "Python 3.6.13 64-bit ('3.6.13': pyenv)"
        },
        "interpreter": {
            "hash": "98373a4284e4a564d4f2df06473808b29be6466d133612bf3acd704edfd754d1"
        }
    },
    "nbformat": 4,
    "nbformat_minor": 2
}