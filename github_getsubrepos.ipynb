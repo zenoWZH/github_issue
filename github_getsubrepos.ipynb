{
 "cells": [
  {
   "cell_type": "code",
   "execution_count": 1,
   "source": [
    "import logging\n",
    "import pandas as pd\n",
    "import re\n",
    "import requests\n",
    "import pickle\n",
    "import time\n",
    "from pyquery import PyQuery\n",
    "from urllib.parse import urljoin, urlparse\n",
    "from models.model_issue import Issue"
   ],
   "outputs": [],
   "metadata": {}
  },
  {
   "cell_type": "code",
   "execution_count": 35,
   "source": [
    "def get_url_page(url):\n",
    "    response = requests.get(url)\n",
    "    logging.info(response.status_code)\n",
    "\n",
    "    if response.status_code == 200:\n",
    "        return response.text\n",
    "    else:\n",
    "        if response.status_code == 429:\n",
    "            print(\"Wait 3min \"+url)\n",
    "            time.sleep(180)\n",
    "            response = requests.get(url)\n",
    "            logging.info(response.status_code)\n",
    "            if response.status_code == 200:\n",
    "                return response.text\n",
    "            elif response.status_code == 429:\n",
    "                print(\"Wait 30min \"+url)\n",
    "                time.sleep(1800)\n",
    "                response = requests.get(url)\n",
    "                logging.info(response.status_code)\n",
    "            else:\n",
    "                #print(response.text) \n",
    "                raise Exception(\"get url page error: responce status code\" + str(response.status_code))\n",
    "        else:\n",
    "            raise Exception(\"get url page error: responce status code\" + str(response.status_code))\n",
    "\n",
    "\n",
    "\n",
    "# 解析issue页，爬取页面的issue列表\n",
    "def parse_repos_page(html, url, proj):\n",
    "    #print(\"Parsing issue pages\")\n",
    "\n",
    "    # 用于存储所有issue信息\n",
    "    issue_list_per_page = list()\n",
    "\n",
    "    # 实例化PyQuery对象\n",
    "    document = PyQuery(html)\n",
    "\n",
    "    # 过滤获取issue所有标签\n",
    "    issue_all = document('div').filter('.border-none')\n",
    "\n",
    "    # items() 转化为list\n",
    "    issue_items = issue_all.items()\n",
    "\n",
    "    # 获取每一个issue\n",
    "    for item in issue_items:\n",
    "        head = item('a').filter('.h4')\n",
    "        # issue信息项\n",
    "        #id     = re.findall(r\"\\d+\", item.attr('id'))[0]\n",
    "        #title  = head.text()\n",
    "        #type   = item('.IssueLabel').text()\n",
    "        link   = urljoin(url, head.attr('href'))\n",
    "        # time   = item('span').filter('.opened-by').children('relative-time').attr('datetime')\n",
    "        author = item('.opened-by a').text()\n",
    "        # 没有添加标签的类别，使用default代替\n",
    "        #if type == '':\n",
    "        #    type = 'default'\n",
    "\n",
    "        #判断是issue还是pull,得到repo实际名称\n",
    "        #i = 0\n",
    "        #path = \"\"\n",
    "        #while path!=\"issues\" and path!=\"pulls\":\n",
    "        #    i+= 1\n",
    "        #    path = urlparse(url).path.split('/')[i]\n",
    "        #path = urlparse(url).path.split('/')[i-1]\n",
    "        #issue_type = urlparse(url).path.split('/')[i]\n",
    "        #path = urlparse(url).path.split('/')[1].lower()  #called source from now on\n",
    "        #print(issue_type)\n",
    "        # 使用json类型保存\n",
    "        item_info = {\n",
    "        #    'id'      :  proj + '#' + path + \"#\" + id,\n",
    "        #    'source'  :  proj,\n",
    "        #    'title'   :  title.replace(\"'\", \"''\"),\n",
    "        #    'type'    :  issue_type,\n",
    "            'link'    :  link,\n",
    "        #    'answered':  'no',\n",
    "        #    'status'  :  status,\n",
    "        #    'author'  :  author,\n",
    "        #    'content' :  ''\n",
    "        }\n",
    "        #if issue_type!=\"issues\":\n",
    "        #    item_info['id'] = proj + '#' + path + \"#\" + issue_type + id\n",
    "        \n",
    "        #Low efficiency, moved to get_issue_comments\n",
    "        #issue_status = get_status_page(link)\n",
    "        #if issue_status != None :\n",
    "        #    item_info['status'] = issue_status\n",
    "        \n",
    "        issue_list_per_page.append(item_info)\n",
    "        #print(item_info['id'])\n",
    "\n",
    "    logging.info(issue_list_per_page)\n",
    "\n",
    "    # 下一页链接\n",
    "    next_page_link = document('.next_page').attr('href')\n",
    "    logging.info(next_page_link)\n",
    "\n",
    "        # 判断下一页链接是否disabled\n",
    "    if next_page_link != None:\n",
    "        next_page_link = urljoin(url, next_page_link)\n",
    "\n",
    "    return issue_list_per_page, next_page_link"
   ],
   "outputs": [],
   "metadata": {}
  },
  {
   "cell_type": "code",
   "execution_count": 36,
   "source": [
    "url = \"https://github.com/orgs/geotrellis/repositories?q=&type=source\"\n",
    "#df = pd.read_csv(\"/mnt/data0/proj_osgeo/gitrepository.csv\")\n",
    "    #print(df.head(5))\n",
    "#proj = str(df.loc[df[\"Repos\"] == url.replace('/pulls', '')][\"Projects\"].values[0]).lower()\\\n",
    "proj = url.split('/')[-2]"
   ],
   "outputs": [],
   "metadata": {}
  },
  {
   "cell_type": "code",
   "execution_count": 37,
   "source": [
    "\n",
    "repos_list = []\n",
    "\n",
    "html = get_url_page(url)\n",
    "pull_list, next_page = parse_repos_page(html, url, proj)\n",
    "\n",
    "while next_page != None:\n",
    "    html = get_url_page(next_page)\n",
    "    issue_list_per_page, next_page = parse_repos_page(html, url, proj)\n",
    "    repos_list += issue_list_per_page"
   ],
   "outputs": [],
   "metadata": {}
  },
  {
   "cell_type": "code",
   "execution_count": 39,
   "source": [
    "next_page"
   ],
   "outputs": [],
   "metadata": {}
  },
  {
   "cell_type": "code",
   "execution_count": 15,
   "source": [
    "document = PyQuery(html)"
   ],
   "outputs": [],
   "metadata": {}
  },
  {
   "cell_type": "code",
   "execution_count": 20,
   "source": [
    "issue_all = document('div').filter('.border-none')"
   ],
   "outputs": [],
   "metadata": {}
  },
  {
   "cell_type": "code",
   "execution_count": 22,
   "source": [
    "issue_all.items()"
   ],
   "outputs": [
    {
     "output_type": "execute_result",
     "data": {
      "text/plain": [
       "<generator object PyQuery.items at 0x7fbd7d4f1f10>"
      ]
     },
     "metadata": {},
     "execution_count": 22
    }
   ],
   "metadata": {}
  },
  {
   "cell_type": "code",
   "execution_count": null,
   "source": [],
   "outputs": [],
   "metadata": {}
  }
 ],
 "metadata": {
  "orig_nbformat": 4,
  "language_info": {
   "name": "python",
   "version": "3.6.13",
   "mimetype": "text/x-python",
   "codemirror_mode": {
    "name": "ipython",
    "version": 3
   },
   "pygments_lexer": "ipython3",
   "nbconvert_exporter": "python",
   "file_extension": ".py"
  },
  "kernelspec": {
   "name": "python3",
   "display_name": "Python 3.6.13 64-bit ('3.6.13': pyenv)"
  },
  "interpreter": {
   "hash": "98373a4284e4a564d4f2df06473808b29be6466d133612bf3acd704edfd754d1"
  }
 },
 "nbformat": 4,
 "nbformat_minor": 2
}